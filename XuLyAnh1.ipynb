{
 "cells": [
  {
   "cell_type": "markdown",
   "metadata": {},
   "source": [
    "# So sánh các thư viện\n",
    "| **Tiêu chí**         | **OpenCV**                               | **Pillow (PIL)**                  | **scikit-image**                     |\n",
    "|-----------------------|------------------------------------------|------------------------------------|---------------------------------------|\n",
    "| **Xử lý ảnh cơ bản**  | Rất tốt                                  | Tốt                               | Tốt                                   |\n",
    "| **Thị giác máy tính** | Rất tốt (hỗ trợ nhiều thuật toán nâng cao)| Hạn chế                           | Hạn chế                              |\n",
    "| **Hiệu suất**         | Cao (C++/GPU acceleration)              | Trung bình (Python-based)         | Trung bình (Python-based)            |\n",
    "| **Học sâu**           | Hỗ trợ tích hợp                         | Không hỗ trợ                      | Không hỗ trợ                         |\n",
    "| **Cộng đồng**         | Rất lớn                                 | Lớn                               | Nhỏ                                   |\n",
    "| **Đa nền tảng**       | Rất tốt                                 | Tốt                               | Tốt                                   |\n"
   ]
  }
 ],
 "metadata": {
  "language_info": {
   "name": "python"
  }
 },
 "nbformat": 4,
 "nbformat_minor": 2
}
